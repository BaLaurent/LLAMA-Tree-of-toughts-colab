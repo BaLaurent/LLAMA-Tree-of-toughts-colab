{
  "nbformat": 4,
  "nbformat_minor": 0,
  "metadata": {
    "colab": {
      "provenance": [],
      "authorship_tag": "ABX9TyPR7YNPvgQ72SCUdRG05Stp",
      "include_colab_link": true
    },
    "kernelspec": {
      "name": "python3",
      "display_name": "Python 3"
    },
    "language_info": {
      "name": "python"
    }
  },
  "cells": [
    {
      "cell_type": "markdown",
      "metadata": {
        "id": "view-in-github",
        "colab_type": "text"
      },
      "source": [
        "<a href=\"https://colab.research.google.com/github/BaLaurent/LLAMA-Tree-of-toughts-colab/blob/main/LLAMA_ToT_colab.ipynb\" target=\"_parent\"><img src=\"https://colab.research.google.com/assets/colab-badge.svg\" alt=\"Open In Colab\"/></a>"
      ]
    },
    {
      "cell_type": "markdown",
      "source": [
        "This is a small experimentation based on the code from rhohndorf, you can find the original repository here:\n",
        "https://github.com/rhohndorf/LLaMa-ToT/tree/main\n",
        "\n",
        "If you have the paid version of Colab you might be able to use a bigger model, for the free version you'll need to stick to the 7B (or lower) version of your favorite model\n"
      ],
      "metadata": {
        "id": "YQsRqkcqC_MH"
      }
    },
    {
      "cell_type": "code",
      "execution_count": null,
      "metadata": {
        "id": "6nhYpGkV6DWK"
      },
      "outputs": [],
      "source": [
        "!pip install llama-cpp-python"
      ]
    },
    {
      "cell_type": "code",
      "source": [
        "#@title Download model file\n",
        "import requests\n",
        "\n",
        "url = \"https://huggingface.co/TheBloke/Wizard-Vicuna-7B-Uncensored-GGML/resolve/main/Wizard-Vicuna-7B-Uncensored.ggmlv3.q4_1.bin\"#@param {type:\"string\"}\n",
        "filename = \"modelFile.bin\"\n",
        "\n",
        "response = requests.get(url)\n",
        "response.raise_for_status()\n",
        "\n",
        "with open(filename, \"wb\") as file:\n",
        "    file.write(response.content)\n",
        "\n",
        "print(\"File downloaded successfully!\")\n"
      ],
      "metadata": {
        "cellView": "form",
        "id": "g9IOs-No8Cuk"
      },
      "execution_count": null,
      "outputs": []
    },
    {
      "cell_type": "code",
      "source": [
        "#@title LLM Setting\n",
        "cfg_model_path = \"/content/modelFile.bin\"\n",
        "cfg_temperature = .7\n",
        "cfg_context_size = 2048\n",
        "\n",
        "# Planning \n",
        "cfg_branching_factor = 3\n",
        "cfg_max_plan_length = 3"
      ],
      "metadata": {
        "cellView": "form",
        "id": "VXWCr0r2IzzL"
      },
      "execution_count": 1,
      "outputs": []
    },
    {
      "cell_type": "code",
      "source": [
        "#@title Templates\n",
        "from string import Template\n",
        "\n",
        "executer = Template(\"\"\"\n",
        "[Input] What year is it?\n",
        "[Output] We are in [[DATE_YEAR]].\n",
        "[Input] Please tell me the largest city in Europe.\n",
        "[Output] The largest city in Europe is Moscow, the capital of Russia.\n",
        "[Input] What can you tell me about Moscow?\n",
        "[Output] Moscow, on the Moskva River in western Russia, is the nation's cosmopolitan capital. In its historic core is the Kremlin, a complex that's home to the president and tsarist treasures in the Armoury. Outside its walls is Red Square, Russia’s symbolic center.\n",
        "[Input] What is a cat?\n",
        "[Output] A cat is a domestic species of small carnivorous mammal. It is the only domesticated species in the family Felidae.\n",
        "[Input] How do I pass command line arguments to a Node.js program?\n",
        "[Output] The arguments are stored in process.argv.\n",
        "\n",
        "    argv[0] is the path to the Node. js executable.\n",
        "    argv[1] is the path to the script file.\n",
        "    argv[2] is the first argument passed to the script.\n",
        "    argv[3] is the second argument passed to the script and so on.\n",
        "[Input] Name a color.\n",
        "[Output] Blue.\n",
        "[Input] What time is it?\n",
        "[Output] It is [[DATE_TIME]].\n",
        "[Input]\n",
        "With the goal to $goal in mind, work on the following task:\n",
        "$task\n",
        "[Output]\n",
        "\"\"\")\n",
        "\n",
        "critic = Template(\"\"\"\n",
        "[Input]\n",
        "Given the following incomplete plan to make an onlette\n",
        "1) Gather all necessary ingredients, including eggs, butter or oil, salt and pepper, cheese (optional), and any other desired fillings such as vegetables or meat.\n",
        "2) Crack the eggs into a mixing bowl and whisk them together until the yolks are broken up. \n",
        "3) Add in the butter or oil to the egg mixture and continue to whisk until it is well combined.\n",
        "4) Season with salt and pepper to taste.\n",
        "\n",
        "Analyze the following 3 statements in terms of correctness and plausibility as a next step in the above plan:\n",
        "[1] Use a spatula to gently lift one side of the omelette up towards the center so that the uncooked eggs can flow underneath. Repeat this process every few minutes as you continue to cook the egg mixture until it is mostly set but still slightly runny on top.\n",
        "[2] Heat a non-stick skillet over medium heat and add enough butter or oil to coat the bottom of the pan. \n",
        "[3] Once the butter has melted, pour in the egg mixture and let it cook for about 30 seconds until it starts to set on the edges.\n",
        "Output the number of the best statement.\n",
        "[Output]\n",
        "2\n",
        "\n",
        "[Input]\n",
        "Given the following incomplete plan to $goal\n",
        "$current_plan\n",
        "Analyze the following $n_options statements in terms of correctness and plausibility as a next step in the above plan:\n",
        "$potential_next_steps\n",
        "Output the number of the best statement.\n",
        "[Output]\n",
        "\"\"\")\n",
        "\n",
        "planner_long = Template(\"\"\"\n",
        "[Input]\n",
        "GOAL: Learn to swim\n",
        "PLAN: None. Please start with a first step!\n",
        "Output the next valid step for the above PLAN. If the PLAN is complete output DONE.\n",
        "\n",
        "[Output]\n",
        "Buy a swim suit\n",
        "    \n",
        "[Input]\n",
        "GOAL: Boil an egg\n",
        "PLAN:\n",
        "    1) Get a pot\n",
        "    2) Fill pot with enough water to cover the egg\n",
        "Output the next valid step for the above PLAN. If the PLAN is complete output DONE.\n",
        "[Output]\n",
        "Get a needle and carefully pierce the egg\n",
        "\n",
        "[Input]\n",
        "GOAL: Eat ice cream\n",
        "PLAN:\n",
        "    1) Buy ice cream\n",
        "    2) Eat ice cream\n",
        "Output the next valid step for the above PLAN. If the PLAN is complete output DONE.\n",
        "[Output]\n",
        "DONE\n",
        "\n",
        "[Input]\n",
        "GOAL: $goal\n",
        "PLAN: $current_plan\n",
        "Output the next valid step for the above PLAN. If the PLAN is complete output DONE.\n",
        "[Output]\n",
        "\"\"\")\n",
        "\n",
        "\n",
        "def make_plan_str(plan_steps):\n",
        "    if len(plan_steps) == 0:\n",
        "        return  \"None. Please start with a first step!\"\n",
        "    current_plan = '\\n'\n",
        "    for n, step in enumerate(plan_steps):\n",
        "        current_plan += \"    \" + str(n+1) + ') ' + step.get(\"task\") + '\\n'\n",
        "        # current_plan += '-------------------------------------------\\n'\n",
        "        # current_plan += step.get(\"result\") + '\\n'\n",
        "    return current_plan \n",
        "\n",
        "def tpl_make_planner_prompt(goal, plan_steps):\n",
        "    current_plan = make_plan_str(plan_steps)\n",
        "    prompt = planner_long.substitute(goal=goal, current_plan=current_plan)\n",
        "    return prompt\n",
        "\n",
        "def tpl_make_critic_prompt(goal, plan_steps, potential_next_steps):\n",
        "    current_plan = make_plan_str(plan_steps)\n",
        "    next_steps_list = ''.join(['[' + str(i+1) + '] ' + step + '\\n' for i,step in enumerate(potential_next_steps)])  \n",
        "    prompt = critic.substitute(goal=goal, n_options=len(potential_next_steps), current_plan=current_plan, potential_next_steps=next_steps_list)\n",
        "    return prompt\n",
        "\n",
        "def make_executive_prompt(goal, plan, task):\n",
        "\n",
        "    return executer.substitute(goal=goal, task=task)"
      ],
      "metadata": {
        "cellView": "form",
        "id": "vxR8Ob_OJkO6"
      },
      "execution_count": 2,
      "outputs": []
    },
    {
      "cell_type": "code",
      "source": [
        "#@title Run ToT experiment\n",
        "from llama_cpp import Llama\n",
        "\n",
        "    \n",
        "llm = Llama(cfg_model_path, n_ctx=2048)\n",
        "\n",
        "def ask(prompt):\n",
        "    response = llm(prompt, stop=[\"[Input]\"], temperature=cfg_temperature, top_k=50)\n",
        "    return response['choices'][0]['text'].rstrip().lstrip()\n",
        "\n",
        "\n",
        "def solve(goal, plan):\n",
        "    \"\"\"Find a plan with DFS\"\"\"\n",
        "    planner_prompt = tpl_make_planner_prompt(goal, plan)\n",
        "    tmpPlanner = planner_prompt.replace(\"\"\"\n",
        "[Input]\n",
        "GOAL: Learn to swim\n",
        "PLAN: None. Please start with a first step!\n",
        "Output the next valid step for the above PLAN. If the PLAN is complete output DONE.\n",
        "\n",
        "[Output]\n",
        "Buy a swim suit\n",
        "    \n",
        "[Input]\n",
        "GOAL: Boil an egg\n",
        "PLAN:\n",
        "    1) Get a pot\n",
        "    2) Fill pot with enough water to cover the egg\n",
        "Output the next valid step for the above PLAN. If the PLAN is complete output DONE.\n",
        "[Output]\n",
        "Get a needle and carefully pierce the egg\n",
        "\n",
        "[Input]\n",
        "GOAL: Eat ice cream\n",
        "PLAN:\n",
        "    1) Buy ice cream\n",
        "    2) Eat ice cream\n",
        "Output the next valid step for the above PLAN. If the PLAN is complete output DONE.\n",
        "[Output]\n",
        "DONE\"\"\",\"\")\n",
        "    print(tmpPlanner)\n",
        "    options = [ask(planner_prompt) for i in range(cfg_branching_factor)]\n",
        "    while len(options) > 0:\n",
        "        critic_prompt = tpl_make_critic_prompt(goal, plan, options)\n",
        "        tmpCritic = critic_prompt.replace(\"\"\"\n",
        "[Input]\n",
        "Given the following incomplete plan to make an onlette\n",
        "1) Gather all necessary ingredients, including eggs, butter or oil, salt and pepper, cheese (optional), and any other desired fillings such as vegetables or meat.\n",
        "2) Crack the eggs into a mixing bowl and whisk them together until the yolks are broken up. \n",
        "3) Add in the butter or oil to the egg mixture and continue to whisk until it is well combined.\n",
        "4) Season with salt and pepper to taste.\n",
        "\n",
        "Analyze the following 3 statements in terms of correctness and plausibility as a next step in the above plan:\n",
        "[1] Use a spatula to gently lift one side of the omelette up towards the center so that the uncooked eggs can flow underneath. Repeat this process every few minutes as you continue to cook the egg mixture until it is mostly set but still slightly runny on top.\n",
        "[2] Heat a non-stick skillet over medium heat and add enough butter or oil to coat the bottom of the pan. \n",
        "[3] Once the butter has melted, pour in the egg mixture and let it cook for about 30 seconds until it starts to set on the edges.\n",
        "Output the number of the best statement.\n",
        "[Output]\n",
        "2\n",
        "\"\"\",\"\")\n",
        "        print(tmpCritic)\n",
        "        chosen_option = options.pop(int(ask(critic_prompt)) -1)\n",
        "\n",
        "        # Termination criterion 1: Solution found. The plan is complete and can be returned \n",
        "        if chosen_option == \"DONE\":\n",
        "            return plan\n",
        "\n",
        "        # Termination criterion 2: Max plan length reached and no valid plan found. Backtrack 1 step.\n",
        "        if len(plan) == cfg_max_plan_length:\n",
        "            return None\n",
        "        \n",
        "        # Explore subtree\n",
        "        valid_plan =  solve(goal, plan+[{'task':chosen_option, 'state':None}])\n",
        "        if valid_plan != None:\n",
        "            return valid_plan\n",
        "        \n",
        "\n",
        "\n",
        "if __name__ == \"__main__\":\n",
        "    # goal = \"solve for x,y and z in the following system of equations x=17z + 3; y=2x; z=1\"\n",
        "    goal = \"Earn money online without finding clients\"#@param {type:\"string\"}\n",
        "    # goal = \"Combine the numbers 4,9,10 and 13 with the basic arithmatic operations(+,-,*,/) to obtain the result 24\"\n",
        "    plan = None\n",
        "\n",
        "    while plan == None:\n",
        "        plan = solve(goal, [])\n",
        "\n",
        "    print(plan)"
      ],
      "metadata": {
        "colab": {
          "base_uri": "https://localhost:8080/"
        },
        "cellView": "form",
        "id": "H_KCOxhp6Ybf",
        "outputId": "1c45fe0c-e62e-4d95-ba85-261ef00f27c6"
      },
      "execution_count": null,
      "outputs": [
        {
          "output_type": "stream",
          "name": "stderr",
          "text": [
            "AVX = 1 | AVX2 = 1 | AVX512 = 0 | AVX512_VBMI = 0 | AVX512_VNNI = 0 | FMA = 1 | NEON = 0 | ARM_FMA = 0 | F16C = 1 | FP16_VA = 0 | WASM_SIMD = 0 | BLAS = 0 | SSE3 = 1 | VSX = 0 | \n"
          ]
        },
        {
          "output_type": "stream",
          "name": "stdout",
          "text": [
            "\n",
            "\n",
            "[Input]\n",
            "GOAL: Earn money online without finding clients\n",
            "PLAN: None. Please start with a first step!\n",
            "Output the next valid step for the above PLAN. If the PLAN is complete output DONE.\n",
            "[Output]\n",
            "\n"
          ]
        },
        {
          "output_type": "stream",
          "name": "stderr",
          "text": [
            "Llama.generate: prefix-match hit\n",
            "Llama.generate: prefix-match hit\n"
          ]
        },
        {
          "output_type": "stream",
          "name": "stdout",
          "text": [
            "\n",
            "[Input]\n",
            "Given the following incomplete plan to Earn money online without finding clients\n",
            "None. Please start with a first step!\n",
            "Analyze the following 3 statements in terms of correctness and plausibility as a next step in the above plan:\n",
            "[1] Buy a domain name and hosting plan\n",
            "[2] Start by creating a website or blog and writing about topics that interest you.\n",
            "[3] DONE\n",
            "\n",
            "Output the number of the best statement.\n",
            "[Output]\n",
            "\n"
          ]
        },
        {
          "output_type": "stream",
          "name": "stderr",
          "text": [
            "Llama.generate: prefix-match hit\n"
          ]
        }
      ]
    }
  ]
}